{
 "cells": [
  {
   "cell_type": "markdown",
   "id": "d7cdecd6",
   "metadata": {},
   "source": [
    "\n"
   ]
  },
  {
   "cell_type": "code",
   "execution_count": 1,
   "id": "3e031ac2",
   "metadata": {},
   "outputs": [],
   "source": [
    "###### Basic libraries\n",
    "import numpy as np\n",
    "import pandas as pd\n",
    "from scipy import stats\n",
    "\n",
    "# Visualization libraries\n",
    "import matplotlib.pyplot as plt\n",
    "import matplotlib\n",
    "import seaborn as sns\n",
    "\n",
    "from matplotlib.colors import ListedColormap\n",
    "\n",
    "from matplotlib_venn import venn3\n",
    "import matplotlib.patches as mpatches\n",
    "\n",
    "# Statistics, EDA, metrics libraries\n",
    "from scipy.stats import normaltest, skew\n",
    "from sklearn.preprocessing import OneHotEncoder, LabelEncoder, StandardScaler\n",
    "from sklearn.metrics import r2_score, median_absolute_error, mean_absolute_error, accuracy_score, f1_score\n",
    "from sklearn.metrics import median_absolute_error, mean_squared_error, mean_squared_log_error\n",
    "from sklearn.metrics import classification_report, confusion_matrix\n",
    "from scipy.special import boxcox, inv_boxcox\n",
    "\n",
    "# Modeling libraries\n",
    "from sklearn.linear_model import LogisticRegression, LogisticRegressionCV\n",
    "from sklearn.model_selection import train_test_split, cross_val_score, GridSearchCV, StratifiedKFold, cross_val_predict,  KFold\n",
    "from sklearn.neighbors import KNeighborsClassifier\n",
    "from sklearn.linear_model import LogisticRegression\n",
    "from sklearn.tree import DecisionTreeClassifier\n",
    "from sklearn.ensemble import RandomForestClassifier\n",
    "from sklearn.ensemble import ExtraTreesClassifier\n",
    "from sklearn.ensemble import AdaBoostClassifier\n",
    "from sklearn.svm import SVC\n",
    "from sklearn.metrics import roc_curve, auc\n",
    "from sklearn.decomposition import PCA\n",
    "from scipy.stats import zscore\n",
    "from itertools import combinations\n",
    "from xgboost.sklearn import XGBClassifier\n",
    "from sklearn.ensemble import IsolationForest\n",
    "import kmapper as km\n",
    "from sklearn.cluster import KMeans\n",
    "import warnings\n",
    "warnings.filterwarnings(\"ignore\")\n",
    "\n",
    "# Pallets used for visualizations\n",
    "color= \"Spectral\"\n",
    "color_plt = ListedColormap(sns.color_palette(color).as_hex())\n",
    "color_hist = 'teal'\n",
    "two_colors = [ sns.color_palette(color)[0], sns.color_palette(color)[5]]\n",
    "three_colors = [ sns.color_palette(color)[5],sns.color_palette(color)[2], sns.color_palette(color)[0]]"
   ]
  },
  {
   "cell_type": "code",
   "execution_count": 2,
   "id": "1f1ec489",
   "metadata": {},
   "outputs": [],
   "source": [
    "df = pd.read_csv('METABRIC_RNA_Mutation.csv')"
   ]
  },
  {
   "cell_type": "code",
   "execution_count": 3,
   "id": "fc42b03f",
   "metadata": {},
   "outputs": [
    {
     "data": {
      "text/plain": [
       "(1904, 31)"
      ]
     },
     "execution_count": 3,
     "metadata": {},
     "output_type": "execute_result"
    }
   ],
   "source": [
    "#Only clinical attributes/variables mentioned in the problem description will be used\n",
    "\n",
    "df2= df.loc[:,\"patient_id\":\"death_from_cancer\"]\n",
    "df2.shape"
   ]
  },
  {
   "cell_type": "code",
   "execution_count": 4,
   "id": "a58c5d40",
   "metadata": {},
   "outputs": [
    {
     "data": {
      "text/html": [
       "<div>\n",
       "<style scoped>\n",
       "    .dataframe tbody tr th:only-of-type {\n",
       "        vertical-align: middle;\n",
       "    }\n",
       "\n",
       "    .dataframe tbody tr th {\n",
       "        vertical-align: top;\n",
       "    }\n",
       "\n",
       "    .dataframe thead th {\n",
       "        text-align: right;\n",
       "    }\n",
       "</style>\n",
       "<table border=\"1\" class=\"dataframe\">\n",
       "  <thead>\n",
       "    <tr style=\"text-align: right;\">\n",
       "      <th></th>\n",
       "      <th>patient_id</th>\n",
       "      <th>age_at_diagnosis</th>\n",
       "      <th>type_of_breast_surgery</th>\n",
       "      <th>cancer_type</th>\n",
       "      <th>cancer_type_detailed</th>\n",
       "      <th>cellularity</th>\n",
       "      <th>chemotherapy</th>\n",
       "      <th>pam50_+_claudin-low_subtype</th>\n",
       "      <th>cohort</th>\n",
       "      <th>er_status_measured_by_ihc</th>\n",
       "      <th>...</th>\n",
       "      <th>nottingham_prognostic_index</th>\n",
       "      <th>oncotree_code</th>\n",
       "      <th>overall_survival_months</th>\n",
       "      <th>overall_survival</th>\n",
       "      <th>pr_status</th>\n",
       "      <th>radio_therapy</th>\n",
       "      <th>3-gene_classifier_subtype</th>\n",
       "      <th>tumor_size</th>\n",
       "      <th>tumor_stage</th>\n",
       "      <th>death_from_cancer</th>\n",
       "    </tr>\n",
       "  </thead>\n",
       "  <tbody>\n",
       "    <tr>\n",
       "      <th>0</th>\n",
       "      <td>0</td>\n",
       "      <td>75.65</td>\n",
       "      <td>MASTECTOMY</td>\n",
       "      <td>Breast Cancer</td>\n",
       "      <td>Breast Invasive Ductal Carcinoma</td>\n",
       "      <td>NaN</td>\n",
       "      <td>0</td>\n",
       "      <td>claudin-low</td>\n",
       "      <td>1.0</td>\n",
       "      <td>Positve</td>\n",
       "      <td>...</td>\n",
       "      <td>6.044</td>\n",
       "      <td>IDC</td>\n",
       "      <td>140.500000</td>\n",
       "      <td>1</td>\n",
       "      <td>Negative</td>\n",
       "      <td>1</td>\n",
       "      <td>ER-/HER2-</td>\n",
       "      <td>22.0</td>\n",
       "      <td>2.0</td>\n",
       "      <td>Living</td>\n",
       "    </tr>\n",
       "    <tr>\n",
       "      <th>1</th>\n",
       "      <td>2</td>\n",
       "      <td>43.19</td>\n",
       "      <td>BREAST CONSERVING</td>\n",
       "      <td>Breast Cancer</td>\n",
       "      <td>Breast Invasive Ductal Carcinoma</td>\n",
       "      <td>High</td>\n",
       "      <td>0</td>\n",
       "      <td>LumA</td>\n",
       "      <td>1.0</td>\n",
       "      <td>Positve</td>\n",
       "      <td>...</td>\n",
       "      <td>4.020</td>\n",
       "      <td>IDC</td>\n",
       "      <td>84.633333</td>\n",
       "      <td>1</td>\n",
       "      <td>Positive</td>\n",
       "      <td>1</td>\n",
       "      <td>ER+/HER2- High Prolif</td>\n",
       "      <td>10.0</td>\n",
       "      <td>1.0</td>\n",
       "      <td>Living</td>\n",
       "    </tr>\n",
       "    <tr>\n",
       "      <th>2</th>\n",
       "      <td>5</td>\n",
       "      <td>48.87</td>\n",
       "      <td>MASTECTOMY</td>\n",
       "      <td>Breast Cancer</td>\n",
       "      <td>Breast Invasive Ductal Carcinoma</td>\n",
       "      <td>High</td>\n",
       "      <td>1</td>\n",
       "      <td>LumB</td>\n",
       "      <td>1.0</td>\n",
       "      <td>Positve</td>\n",
       "      <td>...</td>\n",
       "      <td>4.030</td>\n",
       "      <td>IDC</td>\n",
       "      <td>163.700000</td>\n",
       "      <td>0</td>\n",
       "      <td>Positive</td>\n",
       "      <td>0</td>\n",
       "      <td>NaN</td>\n",
       "      <td>15.0</td>\n",
       "      <td>2.0</td>\n",
       "      <td>Died of Disease</td>\n",
       "    </tr>\n",
       "    <tr>\n",
       "      <th>3</th>\n",
       "      <td>6</td>\n",
       "      <td>47.68</td>\n",
       "      <td>MASTECTOMY</td>\n",
       "      <td>Breast Cancer</td>\n",
       "      <td>Breast Mixed Ductal and Lobular Carcinoma</td>\n",
       "      <td>Moderate</td>\n",
       "      <td>1</td>\n",
       "      <td>LumB</td>\n",
       "      <td>1.0</td>\n",
       "      <td>Positve</td>\n",
       "      <td>...</td>\n",
       "      <td>4.050</td>\n",
       "      <td>MDLC</td>\n",
       "      <td>164.933333</td>\n",
       "      <td>1</td>\n",
       "      <td>Positive</td>\n",
       "      <td>1</td>\n",
       "      <td>NaN</td>\n",
       "      <td>25.0</td>\n",
       "      <td>2.0</td>\n",
       "      <td>Living</td>\n",
       "    </tr>\n",
       "    <tr>\n",
       "      <th>4</th>\n",
       "      <td>8</td>\n",
       "      <td>76.97</td>\n",
       "      <td>MASTECTOMY</td>\n",
       "      <td>Breast Cancer</td>\n",
       "      <td>Breast Mixed Ductal and Lobular Carcinoma</td>\n",
       "      <td>High</td>\n",
       "      <td>1</td>\n",
       "      <td>LumB</td>\n",
       "      <td>1.0</td>\n",
       "      <td>Positve</td>\n",
       "      <td>...</td>\n",
       "      <td>6.080</td>\n",
       "      <td>MDLC</td>\n",
       "      <td>41.366667</td>\n",
       "      <td>0</td>\n",
       "      <td>Positive</td>\n",
       "      <td>1</td>\n",
       "      <td>ER+/HER2- High Prolif</td>\n",
       "      <td>40.0</td>\n",
       "      <td>2.0</td>\n",
       "      <td>Died of Disease</td>\n",
       "    </tr>\n",
       "  </tbody>\n",
       "</table>\n",
       "<p>5 rows × 31 columns</p>\n",
       "</div>"
      ],
      "text/plain": [
       "   patient_id  age_at_diagnosis type_of_breast_surgery    cancer_type  \\\n",
       "0           0             75.65             MASTECTOMY  Breast Cancer   \n",
       "1           2             43.19      BREAST CONSERVING  Breast Cancer   \n",
       "2           5             48.87             MASTECTOMY  Breast Cancer   \n",
       "3           6             47.68             MASTECTOMY  Breast Cancer   \n",
       "4           8             76.97             MASTECTOMY  Breast Cancer   \n",
       "\n",
       "                        cancer_type_detailed cellularity  chemotherapy  \\\n",
       "0           Breast Invasive Ductal Carcinoma         NaN             0   \n",
       "1           Breast Invasive Ductal Carcinoma        High             0   \n",
       "2           Breast Invasive Ductal Carcinoma        High             1   \n",
       "3  Breast Mixed Ductal and Lobular Carcinoma    Moderate             1   \n",
       "4  Breast Mixed Ductal and Lobular Carcinoma        High             1   \n",
       "\n",
       "  pam50_+_claudin-low_subtype  cohort er_status_measured_by_ihc  ...  \\\n",
       "0                 claudin-low     1.0                   Positve  ...   \n",
       "1                        LumA     1.0                   Positve  ...   \n",
       "2                        LumB     1.0                   Positve  ...   \n",
       "3                        LumB     1.0                   Positve  ...   \n",
       "4                        LumB     1.0                   Positve  ...   \n",
       "\n",
       "  nottingham_prognostic_index  oncotree_code overall_survival_months  \\\n",
       "0                       6.044            IDC              140.500000   \n",
       "1                       4.020            IDC               84.633333   \n",
       "2                       4.030            IDC              163.700000   \n",
       "3                       4.050           MDLC              164.933333   \n",
       "4                       6.080           MDLC               41.366667   \n",
       "\n",
       "  overall_survival pr_status  radio_therapy 3-gene_classifier_subtype  \\\n",
       "0                1  Negative              1                 ER-/HER2-   \n",
       "1                1  Positive              1     ER+/HER2- High Prolif   \n",
       "2                0  Positive              0                       NaN   \n",
       "3                1  Positive              1                       NaN   \n",
       "4                0  Positive              1     ER+/HER2- High Prolif   \n",
       "\n",
       "  tumor_size tumor_stage  death_from_cancer  \n",
       "0       22.0         2.0             Living  \n",
       "1       10.0         1.0             Living  \n",
       "2       15.0         2.0    Died of Disease  \n",
       "3       25.0         2.0             Living  \n",
       "4       40.0         2.0    Died of Disease  \n",
       "\n",
       "[5 rows x 31 columns]"
      ]
     },
     "execution_count": 4,
     "metadata": {},
     "output_type": "execute_result"
    }
   ],
   "source": [
    "#checking the data\n",
    "df2.head()"
   ]
  },
  {
   "cell_type": "code",
   "execution_count": 5,
   "id": "3f5bfd0c",
   "metadata": {},
   "outputs": [
    {
     "name": "stdout",
     "output_type": "stream",
     "text": [
      "patient_id                         0.000000\n",
      "age_at_diagnosis                   0.000000\n",
      "type_of_breast_surgery             1.155462\n",
      "cancer_type                        0.000000\n",
      "cancer_type_detailed               0.787815\n",
      "cellularity                        2.836134\n",
      "chemotherapy                       0.000000\n",
      "pam50_+_claudin-low_subtype        0.000000\n",
      "cohort                             0.000000\n",
      "er_status_measured_by_ihc          1.575630\n",
      "er_status                          0.000000\n",
      "neoplasm_histologic_grade          3.781513\n",
      "her2_status_measured_by_snp6       0.000000\n",
      "her2_status                        0.000000\n",
      "tumor_other_histologic_subtype     0.787815\n",
      "hormone_therapy                    0.000000\n",
      "inferred_menopausal_state          0.000000\n",
      "integrative_cluster                0.000000\n",
      "primary_tumor_laterality           5.567227\n",
      "lymph_nodes_examined_positive      0.000000\n",
      "mutation_count                     2.363445\n",
      "nottingham_prognostic_index        0.000000\n",
      "oncotree_code                      0.787815\n",
      "overall_survival_months            0.000000\n",
      "overall_survival                   0.000000\n",
      "pr_status                          0.000000\n",
      "radio_therapy                      0.000000\n",
      "3-gene_classifier_subtype         10.714286\n",
      "tumor_size                         1.050420\n",
      "tumor_stage                       26.313025\n",
      "death_from_cancer                  0.052521\n",
      "dtype: float64\n"
     ]
    }
   ],
   "source": [
    "#checking percentage of missing value\n",
    "print(df2.isnull().sum()/len(df2)*100)\n"
   ]
  },
  {
   "cell_type": "code",
   "execution_count": 24,
   "id": "837b70ce",
   "metadata": {},
   "outputs": [
    {
     "data": {
      "text/plain": [
       "Text(0.5, 1.0, 'Missing value')"
      ]
     },
     "execution_count": 24,
     "metadata": {},
     "output_type": "execute_result"
    },
    {
     "data": {
      "image/png": "[encoded data removed]",
      "text/plain": [
       "<Figure size 864x432 with 1 Axes>"
      ]
     },
     "metadata": {
      "needs_background": "light"
     },
     "output_type": "display_data"
    }
   ],
   "source": [
    "#Plot of missing value percentage\n",
    "df2.isnull().mean().plot.bar(figsize=(12,6))\n",
    "plt.ylabel('Percentage of missing values')\n",
    "plt.xlabel('Variables')\n",
    "plt.title('Missing value')"
   ]
  },
  {
   "cell_type": "code",
   "execution_count": 32,
   "id": "0515927d",
   "metadata": {},
   "outputs": [],
   "source": [
    "#Numeric variable\n",
    "#function that takes a dataframe and transforms it into a standard form after dropping nun_numirical columns\n",
    "def to_standard (df2):\n",
    "    \n",
    "    num_df = df2[df2.select_dtypes(include = np.number).columns.tolist()]\n",
    "    \n",
    "    ss = StandardScaler()\n",
    "    std = ss.fit_transform(num_df)\n",
    "    \n",
    "    std_df = pd.DataFrame(std, index = num_df.index, columns = num_df.columns)\n",
    "    return std_d"
   ]
  },
  {
   "cell_type": "code",
   "execution_count": 30,
   "id": "59d3d4de",
   "metadata": {},
   "outputs": [
    {
     "data": {
      "image/png": "[encoded data removed]",
      "text/plain": [
       "<Figure size 864x432 with 1 Axes>"
      ]
     },
     "metadata": {
      "needs_background": "light"
     },
     "output_type": "display_data"
    }
   ],
   "source": [
    "ig, ax = plt.subplots( figsize=(12, 6))\n",
    "ax = sns.boxplot(x ='tumor_stage', y ='tumor_size',  data = df2, orient='v', hue='overall_survival', palette=two_colors)\n",
    "\n",
    "ax.set_ylabel('Tumor size')\n",
    "ax.set_xlabel('Tumor stage')\n",
    "plt.title('Tumor size distribution per tumor stage', fontsize=16)\n",
    "plt.show()"
   ]
  },
  {
   "cell_type": "code",
   "execution_count": 33,
   "id": "4a22aaa1",
   "metadata": {},
   "outputs": [],
   "source": [
    "died = df2[df2['overall_survival']==0]\n",
    "survived = df2[df2['overall_survival']==1]\n",
    "\n",
    "alive_from_cancer = df2[df2['death_from_cancer']=='Living']\n",
    "died_from_cancer = df2[df2['death_from_cancer']=='Died of Disease']\n",
    "died_not_cancer = df2[df2['death_from_cancer']=='Died of Other Causes']"
   ]
  },
  {
   "cell_type": "code",
   "execution_count": 34,
   "id": "c5e5526a",
   "metadata": {},
   "outputs": [
    {
     "data": {
      "image/png": "[encoded data removed]",
      "text/plain": [
       "<Figure size 864x288 with 2 Axes>"
      ]
     },
     "metadata": {
      "needs_background": "light"
     },
     "output_type": "display_data"
    }
   ],
   "source": [
    "fig, ax = plt.subplots(ncols=2, figsize=(12,4), sharey=True)\n",
    "\n",
    "fig.suptitle('The Distribution of Survival and Recurrence with Target Attribute', fontsize = 18)\n",
    "\n",
    "ax[0].hist(died['overall_survival_months'], alpha=0.9, color=sns.color_palette(color)[0], label='Died')\n",
    "ax[0].hist(survived['overall_survival_months'], alpha=0.9, color=sns.color_palette(color)[5], label='Survived')\n",
    "ax[0].legend()\n",
    "\n",
    "ax[1].hist(alive_from_cancer['overall_survival_months'], alpha=0.9, color=sns.color_palette(color)[5], label='Survived')\n",
    "ax[1].hist(died_from_cancer['overall_survival_months'], alpha=0.9, color=sns.color_palette(color)[0], label='Died from cancer')\n",
    "ax[1].hist(died_not_cancer['overall_survival_months'], alpha=0.9, color=sns.color_palette(color)[1], label='Died not from cancer')\n",
    "ax[1].legend()\n",
    "\n",
    "ax[0].set_xlabel('Overall survival time (month)')\n",
    "ax[0].set_ylabel('Number of patients')\n",
    "ax[1].set_xlabel('Overall survival time (month)')\n",
    "ax[1].set_ylabel('')\n",
    "\n",
    "plt.show()"
   ]
  },
  {
   "cell_type": "code",
   "execution_count": 35,
   "id": "3373ad8d",
   "metadata": {},
   "outputs": [
    {
     "data": {
      "image/png": "[encoded data removed]",
      "text/plain": [
       "<Figure size 1008x144 with 2 Axes>"
      ]
     },
     "metadata": {
      "needs_background": "light"
     },
     "output_type": "display_data"
    }
   ],
   "source": [
    "fig, ax = plt.subplots(ncols=2, figsize=(14,2), sharey=True)\n",
    "\n",
    "sns.boxplot(x='tumor_size', y='overall_survival', orient='h', data=df2, ax=ax[0], palette = two_colors, saturation=0.90)\n",
    "sns.boxplot(x='lymph_nodes_examined_positive', y='overall_survival', orient='h', data=df2, ax=ax[1], palette = two_colors, saturation=0.90)\n",
    "\n",
    "fig.suptitle('The Distribution of Continuous Clinical Attributes', fontsize = 14)\n",
    "plt.yticks([-0.5, 0, 1, 1.5], ['','Died', 'Survived',''])\n",
    "#ax[0].set_xlabel('Age (year)')\n",
    "#ax[0].set_ylabel('survive (yes/no)')\n",
    "\n",
    "ax[0].set_xlabel('Tumour diameter (mm)')\n",
    "ax[0].set_ylabel('')\n",
    "\n",
    "ax[1].set_xlabel('Number of positive lymph nodes')\n",
    "ax[1].set_ylabel('')\n",
    "\n",
    "plt.show()"
   ]
  },
  {
   "cell_type": "code",
   "execution_count": 36,
   "id": "736a1617",
   "metadata": {},
   "outputs": [
    {
     "data": {
      "image/png": "[encoded data removed]",
      "text/plain": [
       "<Figure size 1080x216 with 3 Axes>"
      ]
     },
     "metadata": {
      "needs_background": "light"
     },
     "output_type": "display_data"
    }
   ],
   "source": [
    "fig, ax = plt.subplots(ncols=3, figsize=(15,3))\n",
    "fig.suptitle('The Distribution of treatment and survival', fontsize = 18)\n",
    "\n",
    "sns.countplot(died['chemotherapy'], color=sns.color_palette(color)[0], label='Died', ax=ax[0], saturation=0.90)\n",
    "sns.countplot(x=survived['chemotherapy'] , color=sns.color_palette(color)[5], label='Survived', ax=ax[0], saturation=0.90)\n",
    "\n",
    "#ax[0].legend()\n",
    "ax[0].set(xticklabels=['No','Yes'])\n",
    "\n",
    "sns.countplot(died['hormone_therapy'], color=sns.color_palette(color)[0], label='Died', ax=ax[1], saturation=0.90)\n",
    "sns.countplot(x=survived['hormone_therapy'], color=sns.color_palette(color)[5], label='Survived', ax=ax[1], saturation=0.90)\n",
    "\n",
    "ax[1].legend()\n",
    "ax[1].set(xticklabels=['No','Yes'])\n",
    "\n",
    "sns.countplot(died['radio_therapy'], color=sns.color_palette(color)[0], label='Died', ax=ax[2], saturation=0.90)\n",
    "sns.countplot(x=survived['radio_therapy'], color=sns.color_palette(color)[5], label='Survived', ax=ax[2], saturation=0.90)\n",
    "#ax[2].legend()\n",
    "ax[2].set(xticklabels=['No','Yes'])\n",
    "\n",
    "ax[0].set_xlabel('Chemotherapy')\n",
    "ax[0].set_ylabel('Number of patients')\n",
    "ax[1].set_xlabel('Hormonal therapy')\n",
    "ax[1].set_ylabel('')\n",
    "ax[2].set_xlabel('Radio therapy')\n",
    "ax[2].set_ylabel('')\n",
    "\n",
    "plt.show()"
   ]
  },
  {
   "cell_type": "code",
   "execution_count": null,
   "id": "9e4962b7",
   "metadata": {},
   "outputs": [],
   "source": []
  },
  {
   "cell_type": "code",
   "execution_count": 37,
   "id": "db815d15",
   "metadata": {},
   "outputs": [],
   "source": [
    "BOLD = '\\033[1m'\n",
    "END = '\\033[0m'\n",
    "# using a stratfied k fold because we need the distribution of the to classes in all of the folds to be the same.\n",
    "kfold = StratifiedKFold(n_splits=5, shuffle=True, random_state=42)"
   ]
  },
  {
   "cell_type": "code",
   "execution_count": 38,
   "id": "b60b7bd6",
   "metadata": {},
   "outputs": [
    {
     "name": "stdout",
     "output_type": "stream",
     "text": [
      "Baseline accuracy:\n",
      "0    0.579307\n",
      "1    0.420693\n",
      "Name: overall_survival, dtype: float64\n"
     ]
    }
   ],
   "source": [
    "print('Baseline accuracy:' )\n",
    "print(df[\"overall_survival\"].value_counts()/df[\"overall_survival\"].count())"
   ]
  },
  {
   "cell_type": "code",
   "execution_count": 39,
   "id": "925b95fc",
   "metadata": {},
   "outputs": [],
   "source": [
    "categorical_columns = df2.select_dtypes(include=['object']).columns.tolist()\n",
    "unwanted_columns = ['patient_id','death_from_cancer' ]\n",
    "categorical_columns = [ele for ele in categorical_columns if ele not in unwanted_columns] \n",
    "# Getting dummies for all categorical columns\n",
    "dummies_df = pd.get_dummies(df2.drop('patient_id',axis=1 ), columns= categorical_columns, dummy_na=True)\n",
    "dummies_df.dropna(inplace = True)"
   ]
  },
  {
   "cell_type": "code",
   "execution_count": 40,
   "id": "f1043561",
   "metadata": {},
   "outputs": [],
   "source": [
    "# data splitting\n",
    "X = dummies_df.drop(['death_from_cancer', 'overall_survival'], axis=1)\n",
    "y = dummies_df['overall_survival']\n",
    "# using stratify for y because we need the distribution of the two classes to be equal in train and test sets.\n",
    "X_train, X_test, y_train, y_test = train_test_split(X, y, test_size=0.33, random_state=42, stratify = y)"
   ]
  },
  {
   "cell_type": "code",
   "execution_count": 41,
   "id": "79d6ba83",
   "metadata": {},
   "outputs": [],
   "source": [
    "def model_metrics(model, kfold, X_train, X_test, y_train, y_test):\n",
    "    \n",
    "    model.fit(X_train, y_train)\n",
    "\n",
    "    #metrics\n",
    "    results = cross_val_score(model, X_train, y_train, cv = kfold)\n",
    "    print(\"CV scores: \", results); print(\"CV Standard Deviation: \", results.std()); print();\n",
    "    print('CV Mean score: ', results.mean()); \n",
    "    print('Train score:   ', model.score(X_train, y_train))\n",
    "    print('Test score:    ', model.score(X_test, y_test))\n",
    "    \n",
    "    pred = model.predict(X_test)\n",
    "    print(\"\\n\")\n",
    "    print()\n",
    "    print('Confusion Matrix: ')\n",
    "    print(confusion_matrix(y_test, pred))\n",
    "    print('Classification Report:  ')\n",
    "    print(classification_report(y_test, pred))\n",
    "    train_score =  model.score(X_train, y_train)\n",
    "    test_score = model.score(X_test, y_test)\n",
    "    test_pred = model.predict(X_test)\n",
    "    return test_pred, test_score, results.mean()\n",
    "def basic_classifiers (X_train, X_test, y_train, y_test, kfold):\n",
    "    BOLD = '\\033[1m'\n",
    "    END = '\\033[0m'\n",
    "    \n",
    "    # Scaling \n",
    "    scaler = StandardScaler()\n",
    "    X_train = scaler.fit_transform(X_train)\n",
    "    X_test = scaler.transform(X_test)\n",
    "    \n",
    "    ######################################################################################################  K Neighbors Classifier model\n",
    "    \n",
    "    params = {\n",
    "    \"n_neighbors\" : [5,15,25,30,35,40, 100],\n",
    "    \"weights\" : [\"uniform\" , \"distance\"]\n",
    "    }\n",
    "    print(); print(BOLD + 'K Neighbors Classifier Model:' + END)\n",
    "    knn= GridSearchCV(KNeighborsClassifier(), params, n_jobs=-1, cv=4)\n",
    "    knn_pred, knn_test, knn_train = model_metrics(knn, kfold, X_train, X_test, y_train, y_test)\n",
    "      ###################################################################################################### Logistic Regression\n",
    "    params = {\n",
    "    \"penalty\": [\"l1\", \"l2\"],\n",
    "    \"C\": np.logspace(-2,4,100)\n",
    "    }\n",
    "    print(); print(BOLD + 'Logistic Regression Model:' + END)\n",
    "    logistic_regression = GridSearchCV(LogisticRegression(random_state=42), params, n_jobs=-1, cv=4)\n",
    "    lg_pred, lg_test, lg_train = model_metrics(logistic_regression, kfold, X_train, X_test, y_train, y_test)\n",
    "    \n",
    "    ###################################################################################################### Decision Tree\n",
    "    \n",
    "    print(); print(BOLD + 'Decision Tree Classifier Model:' + END)\n",
    "    decision_tree = DecisionTreeClassifier(random_state=42)\n",
    "    dt_pred, dt_test, dt_train = model_metrics(decision_tree, kfold, X_train, X_test, y_train, y_test)\n",
    "      ###################################################################################################### Random Forest Classifier\n",
    "    \n",
    "    print(); print(BOLD + 'Random Forest Classifier Model:' + END)\n",
    "    random_forest = RandomForestClassifier(random_state=42)\n",
    "    rf_pred, rf_test, rf_train = model_metrics(random_forest, kfold, X_train, X_test, y_train, y_test)\n",
    "    \n",
    "    ###################################################################################################### Extra Trees Classifier\n",
    "   \n",
    "    print(); print(BOLD + 'Extra Trees Classifier Model:' + END)\n",
    "    extra_trees = ExtraTreesClassifier(random_state=42)\n",
    "    et_pred, et_test, et_train = model_metrics(extra_trees, kfold, X_train, X_test, y_train, y_test)\n",
    "    \n",
    "    ###################################################################################################### AdaBoost Classifier\n",
    "    \n",
    "    print(); print(BOLD + 'AdaBoost Classifier Model:' + END)\n",
    "    ada_boost = AdaBoostClassifier(random_state=42)\n",
    "    ab_pred, ab_test, ab_train = model_metrics(ada_boost, kfold, X_train, X_test, y_train, y_test)\n",
    "     ###################################################################################################### SVC Classifier\n",
    "    \n",
    "    print(); print(BOLD + 'SVC Classifier Model:' + END)\n",
    "    svc = SVC(random_state=42)\n",
    "    svc_pred, svc_test, svc_train = model_metrics(svc, kfold, X_train, X_test, y_train, y_test)\n",
    "\n",
    "    fig, (ax1, ax2) = plt.subplots(ncols=2, nrows=1, figsize=(15,6))\n",
    "\n",
    "    \n",
    "    #bar chart of accuracy scores\n",
    "    inds = range(1,8)\n",
    "    labels = [\"KNN\", \"Logistic Regression\", \"Decision Tree\", \"Random Forest\",'Extra Trees', 'AdaBoost', 'SVC' ]\n",
    "    scores_all = [knn_train, lg_train, dt_train, rf_train, et_train, ab_train, svc_train]\n",
    "    scores_predictive = [knn_test, lg_test, dt_test, rf_test, et_test, ab_test, svc_test]\n",
    "    \n",
    "    ax1.bar(inds, scores_all, color=sns.color_palette(color)[5], alpha=0.3, hatch=\"x\", edgecolor=\"none\",label=\"CrossValidation Set\")\n",
    "    ax1.bar(inds, scores_predictive, color=sns.color_palette(color)[0], label=\"Testing set\")\n",
    "    ax1.set_ylim(0.4, 1)\n",
    "    ax1.set_ylabel(\"Accuracy score\")\n",
    "    ax1.axhline(0.5793, color=\"black\", linestyle=\"--\")\n",
    "    ax1.set_title(\"Accuracy scores for basic models\", fontsize=17)\n",
    "    ax1.set_xticks(range(1,8))\n",
    "    ax1.set_xticklabels(labels, size=12, rotation=40, ha=\"right\")\n",
    "    ax1.legend()\n",
    "\n",
    "    labels = [\"KNN\", \"Logistic Regression\", \"Decision Tree\", \"Random Forest\",'Extra Trees', 'AdaBoost', 'SVC' ]\n",
    "    for label, pred in zip(labels, [knn_pred, lg_pred, dt_pred, rf_pred, et_pred, ab_pred, svc_pred]):\n",
    "        fpr, tpr, threshold = roc_curve(y_test.values, pred)\n",
    "        roc_auc = auc(fpr, tpr)\n",
    "        ax2.plot(fpr, tpr, label=label+' (area = %0.2f)' % roc_auc, linewidth=2)\n",
    "    ax2.plot([0, 1], [0, 1], 'k--', linewidth=2)\n",
    "    ax2.set_xlim([-0.05, 1.0])\n",
    "    ax2.set_ylim([-0.05, 1.05])\n",
    "    ax2.set_xlabel('False Positive Rate')\n",
    "    ax2.set_ylabel('True Positive Rate')\n",
    "    ax2.legend(loc=\"lower right\", prop={'size': 12})\n",
    "    ax2.set_title(\"Roc curve for for basic models\", fontsize=17)\n",
    "\n",
    "    plt.show()\n",
    "    # a function that takes a dataframe and plots histograms for all columns \n",
    "def subplot_histograms(dataframe, list_of_columns, list_of_titles, list_of_xlabels, big_title_name):\n",
    "    \n",
    "    nrows = int(np.ceil(len(list_of_columns)/3)) # Makes sure you have enough rows\n",
    "    fig, ax = plt.subplots(ncols=3,nrows=nrows, figsize=(15, 10)) # You'll want to specify your figsize\n",
    "    fig.suptitle(big_title_name, fontsize=15)\n",
    "    ax = ax.ravel() # Ravel turns a matrix into a vector, which is easier to iterate\n",
    "    for i, column in enumerate(list_of_columns): # Gives us an index value to get into all our lists\n",
    "        ax[i].hist(dataframe[column].dropna(), color= color_hist ) # feel free to add more settings\n",
    "        #ax[i].set_xlabel(list_of_xlabels[i])\n",
    "        ax[i].set_ylabel('Frequency')\n",
    "        ax[i].set_title(list_of_titles[i]) # Set titles, labels, etc here for each subplot    \n",
    "    plt.show()\n",
    "    \n",
    "    \n",
    "# a function that takes a dataframe and plots barplot for all columns \n",
    "def subplot_bargraph(dataframe, list_of_columns, list_of_titles, list_of_xlabels, big_title_name):\n",
    "    \n",
    "    nrows = int(np.ceil(len(list_of_columns)/3)) # Makes sure you have enough rows\n",
    "    fig, ax = plt.subplots(ncols=3,nrows=nrows, figsize=(15, 10)) # You'll want to specify your figsize\n",
    "    fig.suptitle(big_title_name, fontsize=20)\n",
    "    ax = ax.ravel() # Ravel turns a matrix into a vector, which is easier to iterate\n",
    "    for i, column in enumerate(list_of_columns): # Gives us an index value to get into all our lists\n",
    "        sns.countplot(dataframe[column].dropna(), color= color_hist, ax=ax[i], hue=dataframe['eventdeath']) # feel free to add more settings\n",
    "        #ax[i].set_xlabel(list_of_xlabels[i])\n",
    "        ax[i].set_xlabel('')\n",
    "        ax[i].set_ylabel('Frequency')\n",
    "        ax[i].set_title(list_of_titles[i]) # Set titles, labels, etc here for each subplot    \n",
    "    plt.show()   \n",
    "    "
   ]
  }
 ],
 "metadata": {
  "kernelspec": {
   "display_name": "Python 3",
   "language": "python",
   "name": "python3"
  },
  "language_info": {
   "codemirror_mode": {
    "name": "ipython",
    "version": 3
   },
   "file_extension": ".py",
   "mimetype": "text/x-python",
   "name": "python",
   "nbconvert_exporter": "python",
   "pygments_lexer": "ipython3",
   "version": "3.8.8"
  }
 },
 "nbformat": 4,
 "nbformat_minor": 5
}
